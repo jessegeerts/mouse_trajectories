{
 "cells": [
  {
   "cell_type": "code",
   "execution_count": null,
   "metadata": {},
   "outputs": [],
   "source": [
    "import numpy as np\n",
    "import pandas as pd \n",
    "import seaborn as sns\n",
    "import os\n",
    "import re\n",
    "from datetime import datetime\n",
    "\n",
    "import matplotlib.pyplot as plt"
   ]
  },
  {
   "cell_type": "code",
   "execution_count": null,
   "metadata": {},
   "outputs": [],
   "source": [
    "fn = '20230330-175814.txt'"
   ]
  },
  {
   "cell_type": "markdown",
   "metadata": {},
   "source": [
    "The textfile is full of lines with several thins. Timestamps, then Z and X are the coordinates of the mouse in space and can be neagative if moving backwards. reward_positioned and reward_delivered indicate the position of a reward beacon and when/where it has been delivered. Ignore everything else.\n"
   ]
  },
  {
   "cell_type": "code",
   "execution_count": null,
   "metadata": {},
   "outputs": [],
   "source": [
    "# Define regular expressions\n",
    "position_regex = re.compile(r'(\\d{4}-\\d{2}-\\d{2} \\d{2}:\\d{2}:\\d{2}\\.\\d{2}).*X=(-?\\d+\\.\\d+) Z=(-?\\d+\\.\\d+)')\n",
    "reward_regex = re.compile(r'(\\d{4}-\\d{2}-\\d{2} \\d{2}:\\d{2}:\\d{2}\\.\\d{2}).*Reward_delivered@ X=(-?\\d+\\.\\d+) Z=(-?\\d+\\.\\d+)')\n",
    "\n",
    "# Initialize lists and arrays for position and reward data\n",
    "pos_x = []\n",
    "pos_z = []\n",
    "pos_timestamps = []\n",
    "reward_x = []\n",
    "reward_z = []\n",
    "reward_timestamps = []\n",
    "\n",
    "# Read the text file\n",
    "with open(fn, 'r') as file:\n",
    "    # Process each line in the file\n",
    "    for line in file:\n",
    "        # Extract X and Z coordinates and timestamp for position lines\n",
    "        match = position_regex.search(line)\n",
    "        if match:\n",
    "            timestamp = match.group(1)\n",
    "            x_coordinate = float(match.group(2))\n",
    "            z_coordinate = float(match.group(3))\n",
    "\n",
    "            # Append coordinates to the respective lists\n",
    "            pos_x.append(x_coordinate)\n",
    "            pos_z.append(z_coordinate)\n",
    "\n",
    "            # Append timestamp to the list\n",
    "            pos_timestamps.append(timestamp)\n",
    "        \n",
    "        # Extract X and Z coordinates and timestamp for reward lines\n",
    "        reward_match = reward_regex.search(line)\n",
    "        if reward_match:\n",
    "            timestamp = reward_match.group(1)\n",
    "            x_coordinate = float(reward_match.group(2))\n",
    "            z_coordinate = float(reward_match.group(3))\n",
    "\n",
    "            # Append coordinates to the respective lists\n",
    "            reward_x.append(x_coordinate)\n",
    "            reward_z.append(z_coordinate)\n",
    "\n",
    "            # Append timestamp to the list\n",
    "            reward_timestamps.append(timestamp)\n",
    "\n",
    "# Convert lists to numpy arrays\n",
    "pos_x = np.array(pos_x)\n",
    "pos_z = np.array(pos_z)\n",
    "pos_timestamps = np.array(pos_timestamps)\n",
    "reward_x = np.array(reward_x)\n",
    "reward_z = np.array(reward_z)\n",
    "reward_timestamps = np.array(reward_timestamps)\n",
    "\n",
    "# Convert timestamps to datetime objects\n",
    "pos_datetime = [datetime.strptime(timestamp, \"%Y-%m-%d %H:%M:%S.%f\") for timestamp in pos_timestamps]\n",
    "reward_datetime = [datetime.strptime(timestamp, \"%Y-%m-%d %H:%M:%S.%f\") for timestamp in reward_timestamps]\n",
    "\n",
    "# Calculate time differences in seconds from the first sample\n",
    "pos_time_diffs = [(timestamp - pos_datetime[0]).total_seconds() for timestamp in pos_datetime]\n",
    "reward_time_diffs = [(timestamp - pos_datetime[0]).total_seconds() for timestamp in reward_datetime]\n",
    "\n",
    "# Create pos_times and reward_times arrays starting from zero\n",
    "pos_times = np.array(pos_time_diffs)\n",
    "reward_times = np.array(reward_time_diffs)\n"
   ]
  },
  {
   "cell_type": "code",
   "execution_count": null,
   "metadata": {},
   "outputs": [],
   "source": [
    "fig, axes = plt.subplots()\n",
    "plt.title('{} different reward locations'.format(len(reward_x)))\n",
    "\n",
    "plt.plot(pos_x, pos_z)\n",
    "plt.scatter(reward_x, reward_z, color='r', zorder=20)\n",
    "plt.legend(['mouse pos', 'reward location'], loc='upper left')\n",
    "plt.axis('equal')\n",
    "plt.tight_layout()"
   ]
  },
  {
   "cell_type": "code",
   "execution_count": null,
   "metadata": {},
   "outputs": [],
   "source": [
    "n_trajectories = len(reward_x)\n",
    "\n",
    "def trial_pos_mask(idx):\n",
    "    if idx == 0: \n",
    "        return pos_times <= reward_times[idx]\n",
    "    elif (idx > 0) & (idx < len(reward_times)):\n",
    "        return (pos_times > reward_times[idx-1]) & (pos_times <= reward_times[idx])\n",
    "    else:\n",
    "        return None\n",
    "    "
   ]
  },
  {
   "cell_type": "code",
   "execution_count": null,
   "metadata": {},
   "outputs": [],
   "source": [
    "trial_n = 15\n",
    "\n",
    "\n",
    "mask = trial_pos_mask(trial_n)\n",
    "xpos = pos_x[mask]\n",
    "zpos = pos_z[mask]\n",
    "\n",
    "trajectory_length = np.sqrt(np.diff(xpos)**2 + np.diff(zpos)**2).sum()\n",
    "shortest_path = np.sqrt((xpos[-1] - xpos[0])**2 + (zpos[-1] - zpos[0])**2)\n",
    "\n",
    "c = np.arange(len(xpos))\n",
    "plt.scatter(xpos, zpos, c=c)\n",
    "plt.scatter(reward_x[trial_n], reward_z[trial_n], color='r')\n",
    "\n",
    "plt.arrow(xpos[0], zpos[0], xpos[-1] - xpos[0], zpos[-1] - zpos[0], width=.1, edgecolor=None, facecolor='k') \n",
    "\n",
    "plt.title('Trajectory length: {:.1f}, shortest path: {:.1f}, ratio: {:.1f}'.format(trajectory_length,\n",
    "                                                                      shortest_path,\n",
    "                                                                      trajectory_length/ shortest_path))\n",
    "\n",
    "plt.xlim([pos_x.min(), pos_x.max()])\n",
    "plt.ylim([pos_z.min(), pos_z.max()])\n",
    "plt.axis('equal')"
   ]
  },
  {
   "cell_type": "markdown",
   "metadata": {},
   "source": [
    "Note that some of the trajectories don't look quite as nice as this one. Some of the X, Y positions have erroneous jumps in them which of course makes the trajectory length look longer than it is. This'll need some smoothing. "
   ]
  },
  {
   "cell_type": "code",
   "execution_count": null,
   "metadata": {},
   "outputs": [],
   "source": []
  },
  {
   "cell_type": "code",
   "execution_count": null,
   "metadata": {},
   "outputs": [],
   "source": []
  },
  {
   "cell_type": "code",
   "execution_count": null,
   "metadata": {},
   "outputs": [],
   "source": []
  },
  {
   "cell_type": "code",
   "execution_count": null,
   "metadata": {},
   "outputs": [],
   "source": []
  }
 ],
 "metadata": {
  "kernelspec": {
   "display_name": "Python 3",
   "language": "python",
   "name": "python3"
  },
  "language_info": {
   "codemirror_mode": {
    "name": "ipython",
    "version": 3
   },
   "file_extension": ".py",
   "mimetype": "text/x-python",
   "name": "python",
   "nbconvert_exporter": "python",
   "pygments_lexer": "ipython3"
  }
 },
 "nbformat": 4,
 "nbformat_minor": 2
}
